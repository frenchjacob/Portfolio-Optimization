{
 "cells": [
  {
   "cell_type": "markdown",
   "id": "f5d504df",
   "metadata": {},
   "source": [
    "This Program attempts to optimize a users portfolio using the Efficient Frontier"
   ]
  },
  {
   "cell_type": "code",
   "execution_count": 1,
   "id": "24ef3233",
   "metadata": {},
   "outputs": [],
   "source": [
    "# Import Libraries\n",
    "import pandas as pd\n",
    "import numpy as np\n",
    "import yfinance as yf\n",
    "from datetime import datetime\n",
    "import matplotlib.pyplot as plt\n",
    "plt.style.use('fivethirtyeight')"
   ]
  },
  {
   "cell_type": "code",
   "execution_count": 2,
   "id": "8ee0db18",
   "metadata": {},
   "outputs": [],
   "source": [
    "# Choose stock symbols for a portfolio\n",
    "\n",
    "assets = ['AAPL','MSFT','AMZN','TSLA','GOOG']"
   ]
  },
  {
   "cell_type": "code",
   "execution_count": 3,
   "id": "37618b88",
   "metadata": {},
   "outputs": [],
   "source": [
    "# Assign weights to the stocks\n",
    "weights = np.repeat(0.2,5)"
   ]
  },
  {
   "cell_type": "code",
   "execution_count": 4,
   "id": "3d3a80e8",
   "metadata": {},
   "outputs": [],
   "source": [
    "# Get the portfolio starting sate\n",
    "portfolio_start_date = '2013-01-01'\n",
    "# Get the portfolio ending data\n",
    "portfolio_end_date = datetime.today().strftime('%Y-%m-%d')"
   ]
  },
  {
   "cell_type": "code",
   "execution_count": 5,
   "id": "7e1f9bf2",
   "metadata": {},
   "outputs": [
    {
     "name": "stdout",
     "output_type": "stream",
     "text": [
      "[*********************100%***********************]  1 of 1 completed\n",
      "[*********************100%***********************]  1 of 1 completed\n",
      "[*********************100%***********************]  1 of 1 completed\n",
      "[*********************100%***********************]  1 of 1 completed\n",
      "[*********************100%***********************]  1 of 1 completed\n"
     ]
    }
   ],
   "source": [
    "# Create a dataframe to store the adjusted close pirce of the stocks\n",
    "df = pd.DataFrame()\n",
    "\n",
    "# Store Adjusted close price in\n",
    "for stock in assets:\n",
    "    df[stock] = yf.download(stock,period='1d', start=portfolio_start_date, end=portfolio_end_date)['Adj Close']"
   ]
  },
  {
   "cell_type": "code",
   "execution_count": 6,
   "id": "748d47eb",
   "metadata": {},
   "outputs": [
    {
     "data": {
      "text/html": [
       "<div>\n",
       "<style scoped>\n",
       "    .dataframe tbody tr th:only-of-type {\n",
       "        vertical-align: middle;\n",
       "    }\n",
       "\n",
       "    .dataframe tbody tr th {\n",
       "        vertical-align: top;\n",
       "    }\n",
       "\n",
       "    .dataframe thead th {\n",
       "        text-align: right;\n",
       "    }\n",
       "</style>\n",
       "<table border=\"1\" class=\"dataframe\">\n",
       "  <thead>\n",
       "    <tr style=\"text-align: right;\">\n",
       "      <th></th>\n",
       "      <th>AAPL</th>\n",
       "      <th>MSFT</th>\n",
       "      <th>AMZN</th>\n",
       "      <th>TSLA</th>\n",
       "      <th>GOOG</th>\n",
       "    </tr>\n",
       "    <tr>\n",
       "      <th>Date</th>\n",
       "      <th></th>\n",
       "      <th></th>\n",
       "      <th></th>\n",
       "      <th></th>\n",
       "      <th></th>\n",
       "    </tr>\n",
       "  </thead>\n",
       "  <tbody>\n",
       "    <tr>\n",
       "      <th>2013-01-02</th>\n",
       "      <td>16.837114</td>\n",
       "      <td>22.774689</td>\n",
       "      <td>12.865500</td>\n",
       "      <td>2.357333</td>\n",
       "      <td>18.013729</td>\n",
       "    </tr>\n",
       "    <tr>\n",
       "      <th>2013-01-03</th>\n",
       "      <td>16.624596</td>\n",
       "      <td>22.469589</td>\n",
       "      <td>12.924000</td>\n",
       "      <td>2.318000</td>\n",
       "      <td>18.024191</td>\n",
       "    </tr>\n",
       "    <tr>\n",
       "      <th>2013-01-04</th>\n",
       "      <td>16.161520</td>\n",
       "      <td>22.049061</td>\n",
       "      <td>12.957500</td>\n",
       "      <td>2.293333</td>\n",
       "      <td>18.380356</td>\n",
       "    </tr>\n",
       "    <tr>\n",
       "      <th>2013-01-07</th>\n",
       "      <td>16.066454</td>\n",
       "      <td>22.007833</td>\n",
       "      <td>13.423000</td>\n",
       "      <td>2.289333</td>\n",
       "      <td>18.300158</td>\n",
       "    </tr>\n",
       "    <tr>\n",
       "      <th>2013-01-08</th>\n",
       "      <td>16.109699</td>\n",
       "      <td>21.892384</td>\n",
       "      <td>13.319000</td>\n",
       "      <td>2.245333</td>\n",
       "      <td>18.264042</td>\n",
       "    </tr>\n",
       "    <tr>\n",
       "      <th>...</th>\n",
       "      <td>...</td>\n",
       "      <td>...</td>\n",
       "      <td>...</td>\n",
       "      <td>...</td>\n",
       "      <td>...</td>\n",
       "    </tr>\n",
       "    <tr>\n",
       "      <th>2023-02-09</th>\n",
       "      <td>150.639999</td>\n",
       "      <td>263.619995</td>\n",
       "      <td>98.239998</td>\n",
       "      <td>207.320007</td>\n",
       "      <td>95.459999</td>\n",
       "    </tr>\n",
       "    <tr>\n",
       "      <th>2023-02-10</th>\n",
       "      <td>151.009995</td>\n",
       "      <td>263.100006</td>\n",
       "      <td>97.610001</td>\n",
       "      <td>196.889999</td>\n",
       "      <td>94.860001</td>\n",
       "    </tr>\n",
       "    <tr>\n",
       "      <th>2023-02-13</th>\n",
       "      <td>153.850006</td>\n",
       "      <td>271.320007</td>\n",
       "      <td>99.540001</td>\n",
       "      <td>194.639999</td>\n",
       "      <td>95.000000</td>\n",
       "    </tr>\n",
       "    <tr>\n",
       "      <th>2023-02-14</th>\n",
       "      <td>153.199997</td>\n",
       "      <td>272.170013</td>\n",
       "      <td>99.699997</td>\n",
       "      <td>209.250000</td>\n",
       "      <td>94.949997</td>\n",
       "    </tr>\n",
       "    <tr>\n",
       "      <th>2023-02-15</th>\n",
       "      <td>155.330002</td>\n",
       "      <td>269.320007</td>\n",
       "      <td>101.160004</td>\n",
       "      <td>214.240005</td>\n",
       "      <td>97.099998</td>\n",
       "    </tr>\n",
       "  </tbody>\n",
       "</table>\n",
       "<p>2549 rows × 5 columns</p>\n",
       "</div>"
      ],
      "text/plain": [
       "                  AAPL        MSFT        AMZN        TSLA       GOOG\n",
       "Date                                                                 \n",
       "2013-01-02   16.837114   22.774689   12.865500    2.357333  18.013729\n",
       "2013-01-03   16.624596   22.469589   12.924000    2.318000  18.024191\n",
       "2013-01-04   16.161520   22.049061   12.957500    2.293333  18.380356\n",
       "2013-01-07   16.066454   22.007833   13.423000    2.289333  18.300158\n",
       "2013-01-08   16.109699   21.892384   13.319000    2.245333  18.264042\n",
       "...                ...         ...         ...         ...        ...\n",
       "2023-02-09  150.639999  263.619995   98.239998  207.320007  95.459999\n",
       "2023-02-10  151.009995  263.100006   97.610001  196.889999  94.860001\n",
       "2023-02-13  153.850006  271.320007   99.540001  194.639999  95.000000\n",
       "2023-02-14  153.199997  272.170013   99.699997  209.250000  94.949997\n",
       "2023-02-15  155.330002  269.320007  101.160004  214.240005  97.099998\n",
       "\n",
       "[2549 rows x 5 columns]"
      ]
     },
     "execution_count": 6,
     "metadata": {},
     "output_type": "execute_result"
    }
   ],
   "source": [
    "# Show the DataFrame\n",
    "df"
   ]
  },
  {
   "cell_type": "code",
   "execution_count": 7,
   "id": "80188c06",
   "metadata": {
    "scrolled": true
   },
   "outputs": [
    {
     "data": {
      "image/png": "[encoded data removed]",
      "text/plain": [
       "<Figure size 432x288 with 1 Axes>"
      ]
     },
     "metadata": {},
     "output_type": "display_data"
    }
   ],
   "source": [
    "# Visually show portfolio\n",
    "\n",
    "#Create and plot the graph\n",
    "\n",
    "for c in df.columns.values:\n",
    "    plt.plot(df, label = c)\n",
    "\n",
    "plt.title('Portfolio Adj Close')\n",
    "plt.xlabel('Date', fontsize = 18)\n",
    "plt.xticks(rotation=45)\n",
    "plt.ylabel('Adj Close')\n",
    "plt.legend(df.columns.values, loc='upper left')\n",
    "plt.show();"
   ]
  },
  {
   "cell_type": "code",
   "execution_count": 8,
   "id": "f0fb9fd2",
   "metadata": {
    "scrolled": false
   },
   "outputs": [
    {
     "data": {
      "text/html": [
       "<div>\n",
       "<style scoped>\n",
       "    .dataframe tbody tr th:only-of-type {\n",
       "        vertical-align: middle;\n",
       "    }\n",
       "\n",
       "    .dataframe tbody tr th {\n",
       "        vertical-align: top;\n",
       "    }\n",
       "\n",
       "    .dataframe thead th {\n",
       "        text-align: right;\n",
       "    }\n",
       "</style>\n",
       "<table border=\"1\" class=\"dataframe\">\n",
       "  <thead>\n",
       "    <tr style=\"text-align: right;\">\n",
       "      <th></th>\n",
       "      <th>AAPL</th>\n",
       "      <th>MSFT</th>\n",
       "      <th>AMZN</th>\n",
       "      <th>TSLA</th>\n",
       "      <th>GOOG</th>\n",
       "    </tr>\n",
       "    <tr>\n",
       "      <th>Date</th>\n",
       "      <th></th>\n",
       "      <th></th>\n",
       "      <th></th>\n",
       "      <th></th>\n",
       "      <th></th>\n",
       "    </tr>\n",
       "  </thead>\n",
       "  <tbody>\n",
       "    <tr>\n",
       "      <th>2013-01-02</th>\n",
       "      <td>NaN</td>\n",
       "      <td>NaN</td>\n",
       "      <td>NaN</td>\n",
       "      <td>NaN</td>\n",
       "      <td>NaN</td>\n",
       "    </tr>\n",
       "    <tr>\n",
       "      <th>2013-01-03</th>\n",
       "      <td>-0.012622</td>\n",
       "      <td>-0.013396</td>\n",
       "      <td>0.004547</td>\n",
       "      <td>-0.016685</td>\n",
       "      <td>0.000581</td>\n",
       "    </tr>\n",
       "    <tr>\n",
       "      <th>2013-01-04</th>\n",
       "      <td>-0.027855</td>\n",
       "      <td>-0.018715</td>\n",
       "      <td>0.002592</td>\n",
       "      <td>-0.010642</td>\n",
       "      <td>0.019760</td>\n",
       "    </tr>\n",
       "    <tr>\n",
       "      <th>2013-01-07</th>\n",
       "      <td>-0.005882</td>\n",
       "      <td>-0.001870</td>\n",
       "      <td>0.035925</td>\n",
       "      <td>-0.001744</td>\n",
       "      <td>-0.004363</td>\n",
       "    </tr>\n",
       "    <tr>\n",
       "      <th>2013-01-08</th>\n",
       "      <td>0.002692</td>\n",
       "      <td>-0.005246</td>\n",
       "      <td>-0.007748</td>\n",
       "      <td>-0.019220</td>\n",
       "      <td>-0.001974</td>\n",
       "    </tr>\n",
       "    <tr>\n",
       "      <th>...</th>\n",
       "      <td>...</td>\n",
       "      <td>...</td>\n",
       "      <td>...</td>\n",
       "      <td>...</td>\n",
       "      <td>...</td>\n",
       "    </tr>\n",
       "    <tr>\n",
       "      <th>2023-02-09</th>\n",
       "      <td>-0.006912</td>\n",
       "      <td>-0.011660</td>\n",
       "      <td>-0.018091</td>\n",
       "      <td>0.029957</td>\n",
       "      <td>-0.045400</td>\n",
       "    </tr>\n",
       "    <tr>\n",
       "      <th>2023-02-10</th>\n",
       "      <td>0.002456</td>\n",
       "      <td>-0.001972</td>\n",
       "      <td>-0.006413</td>\n",
       "      <td>-0.050309</td>\n",
       "      <td>-0.006285</td>\n",
       "    </tr>\n",
       "    <tr>\n",
       "      <th>2023-02-13</th>\n",
       "      <td>0.018807</td>\n",
       "      <td>0.031243</td>\n",
       "      <td>0.019773</td>\n",
       "      <td>-0.011428</td>\n",
       "      <td>0.001476</td>\n",
       "    </tr>\n",
       "    <tr>\n",
       "      <th>2023-02-14</th>\n",
       "      <td>-0.004225</td>\n",
       "      <td>0.003133</td>\n",
       "      <td>0.001607</td>\n",
       "      <td>0.075062</td>\n",
       "      <td>-0.000526</td>\n",
       "    </tr>\n",
       "    <tr>\n",
       "      <th>2023-02-15</th>\n",
       "      <td>0.013903</td>\n",
       "      <td>-0.010471</td>\n",
       "      <td>0.014644</td>\n",
       "      <td>0.023847</td>\n",
       "      <td>0.022644</td>\n",
       "    </tr>\n",
       "  </tbody>\n",
       "</table>\n",
       "<p>2549 rows × 5 columns</p>\n",
       "</div>"
      ],
      "text/plain": [
       "                AAPL      MSFT      AMZN      TSLA      GOOG\n",
       "Date                                                        \n",
       "2013-01-02       NaN       NaN       NaN       NaN       NaN\n",
       "2013-01-03 -0.012622 -0.013396  0.004547 -0.016685  0.000581\n",
       "2013-01-04 -0.027855 -0.018715  0.002592 -0.010642  0.019760\n",
       "2013-01-07 -0.005882 -0.001870  0.035925 -0.001744 -0.004363\n",
       "2013-01-08  0.002692 -0.005246 -0.007748 -0.019220 -0.001974\n",
       "...              ...       ...       ...       ...       ...\n",
       "2023-02-09 -0.006912 -0.011660 -0.018091  0.029957 -0.045400\n",
       "2023-02-10  0.002456 -0.001972 -0.006413 -0.050309 -0.006285\n",
       "2023-02-13  0.018807  0.031243  0.019773 -0.011428  0.001476\n",
       "2023-02-14 -0.004225  0.003133  0.001607  0.075062 -0.000526\n",
       "2023-02-15  0.013903 -0.010471  0.014644  0.023847  0.022644\n",
       "\n",
       "[2549 rows x 5 columns]"
      ]
     },
     "execution_count": 8,
     "metadata": {},
     "output_type": "execute_result"
    }
   ],
   "source": [
    "# Show the daily simple return\n",
    "returns = df.pct_change()\n",
    "returns"
   ]
  },
  {
   "cell_type": "code",
   "execution_count": null,
   "id": "530882e1",
   "metadata": {},
   "outputs": [],
   "source": []
  },
  {
   "cell_type": "code",
   "execution_count": 9,
   "id": "19ab37cd",
   "metadata": {
    "scrolled": false
   },
   "outputs": [
    {
     "data": {
      "text/html": [
       "<div>\n",
       "<style scoped>\n",
       "    .dataframe tbody tr th:only-of-type {\n",
       "        vertical-align: middle;\n",
       "    }\n",
       "\n",
       "    .dataframe tbody tr th {\n",
       "        vertical-align: top;\n",
       "    }\n",
       "\n",
       "    .dataframe thead th {\n",
       "        text-align: right;\n",
       "    }\n",
       "</style>\n",
       "<table border=\"1\" class=\"dataframe\">\n",
       "  <thead>\n",
       "    <tr style=\"text-align: right;\">\n",
       "      <th></th>\n",
       "      <th>AAPL</th>\n",
       "      <th>MSFT</th>\n",
       "      <th>AMZN</th>\n",
       "      <th>TSLA</th>\n",
       "      <th>GOOG</th>\n",
       "    </tr>\n",
       "  </thead>\n",
       "  <tbody>\n",
       "    <tr>\n",
       "      <th>AAPL</th>\n",
       "      <td>0.084317</td>\n",
       "      <td>0.049294</td>\n",
       "      <td>0.048001</td>\n",
       "      <td>0.062031</td>\n",
       "      <td>0.045409</td>\n",
       "    </tr>\n",
       "    <tr>\n",
       "      <th>MSFT</th>\n",
       "      <td>0.049294</td>\n",
       "      <td>0.073583</td>\n",
       "      <td>0.053219</td>\n",
       "      <td>0.058419</td>\n",
       "      <td>0.051795</td>\n",
       "    </tr>\n",
       "    <tr>\n",
       "      <th>AMZN</th>\n",
       "      <td>0.048001</td>\n",
       "      <td>0.053219</td>\n",
       "      <td>0.107684</td>\n",
       "      <td>0.069870</td>\n",
       "      <td>0.056907</td>\n",
       "    </tr>\n",
       "    <tr>\n",
       "      <th>TSLA</th>\n",
       "      <td>0.062031</td>\n",
       "      <td>0.058419</td>\n",
       "      <td>0.069870</td>\n",
       "      <td>0.330934</td>\n",
       "      <td>0.056282</td>\n",
       "    </tr>\n",
       "    <tr>\n",
       "      <th>GOOG</th>\n",
       "      <td>0.045409</td>\n",
       "      <td>0.051795</td>\n",
       "      <td>0.056907</td>\n",
       "      <td>0.056282</td>\n",
       "      <td>0.075230</td>\n",
       "    </tr>\n",
       "  </tbody>\n",
       "</table>\n",
       "</div>"
      ],
      "text/plain": [
       "          AAPL      MSFT      AMZN      TSLA      GOOG\n",
       "AAPL  0.084317  0.049294  0.048001  0.062031  0.045409\n",
       "MSFT  0.049294  0.073583  0.053219  0.058419  0.051795\n",
       "AMZN  0.048001  0.053219  0.107684  0.069870  0.056907\n",
       "TSLA  0.062031  0.058419  0.069870  0.330934  0.056282\n",
       "GOOG  0.045409  0.051795  0.056907  0.056282  0.075230"
      ]
     },
     "execution_count": 9,
     "metadata": {},
     "output_type": "execute_result"
    }
   ],
   "source": [
    "# Create and show the annualized covariane matirx\n",
    "cov_matrix_annual = returns.cov() * 252\n",
    "cov_matrix_annual"
   ]
  },
  {
   "cell_type": "code",
   "execution_count": 10,
   "id": "07c176d1",
   "metadata": {
    "scrolled": true
   },
   "outputs": [
    {
     "data": {
      "text/plain": [
       "0.07096815499079012"
      ]
     },
     "execution_count": 10,
     "metadata": {},
     "output_type": "execute_result"
    }
   ],
   "source": [
    "# Calculate the portfolio variance\n",
    "portfolio_variance = np.dot(weights.T, np.dot(cov_matrix_annual,weights))\n",
    "portfolio_variance"
   ]
  },
  {
   "cell_type": "code",
   "execution_count": 11,
   "id": "b01916b1",
   "metadata": {},
   "outputs": [
    {
     "data": {
      "text/plain": [
       "0.2663984890925437"
      ]
     },
     "execution_count": 11,
     "metadata": {},
     "output_type": "execute_result"
    }
   ],
   "source": [
    "# Calculate the portfolio volatility (std)\n",
    "portfolio_vol = np.sqrt(portfolio_variance)\n",
    "portfolio_vol"
   ]
  },
  {
   "cell_type": "code",
   "execution_count": 12,
   "id": "279d8efd",
   "metadata": {},
   "outputs": [
    {
     "data": {
      "text/plain": [
       "0.323162375588751"
      ]
     },
     "execution_count": 12,
     "metadata": {},
     "output_type": "execute_result"
    }
   ],
   "source": [
    "# Calculate annual portfolio return\n",
    "simplereturn = np.sum(returns.mean() * weights * 252)\n",
    "simplereturn"
   ]
  },
  {
   "cell_type": "code",
   "execution_count": 13,
   "id": "353b1cab",
   "metadata": {},
   "outputs": [
    {
     "name": "stdout",
     "output_type": "stream",
     "text": [
      "Expeceted Variance: 7.000000000000001%\n",
      "Expected Volatility: 27.0%\n",
      "Expected Return: 32.0%\n"
     ]
    }
   ],
   "source": [
    "#Show the expected annual return, volatility(risk), and variance\n",
    "percent_var = str(round(portfolio_variance,2)* 100) + '%'\n",
    "percent_vol = str(round(portfolio_vol,2)* 100) + '%'\n",
    "percent_return = str(round(simplereturn,2)* 100) + '%'\n",
    "\n",
    "print('Expeceted Variance:', percent_var)\n",
    "print('Expected Volatility:',percent_vol)\n",
    "print('Expected Return:',percent_return)"
   ]
  },
  {
   "cell_type": "code",
   "execution_count": 14,
   "id": "41911f7a",
   "metadata": {},
   "outputs": [],
   "source": [
    "from pypfopt.efficient_frontier import EfficientFrontier\n",
    "from pypfopt import risk_models\n",
    "from pypfopt import expected_returns"
   ]
  },
  {
   "cell_type": "code",
   "execution_count": 15,
   "id": "9e1e1f81",
   "metadata": {},
   "outputs": [
    {
     "name": "stdout",
     "output_type": "stream",
     "text": [
      "OrderedDict([('AAPL', 0.13765), ('MSFT', 0.56885), ('AMZN', 0.0), ('TSLA', 0.2935), ('GOOG', 0.0)])\n",
      "Expected annual return: 35.6%\n",
      "Annual volatility: 29.4%\n",
      "Sharpe Ratio: 1.15\n"
     ]
    },
    {
     "data": {
      "text/plain": [
       "(0.3562174776033953, 0.2935216974936118, 1.145460388360941)"
      ]
     },
     "execution_count": 15,
     "metadata": {},
     "output_type": "execute_result"
    }
   ],
   "source": [
    "# Portfolio Optimization !\n",
    "\n",
    "# Calculate the expected returns and the annualised sample covariance matrix of asset returns\n",
    "mu = expected_returns.mean_historical_return(df)\n",
    "S = risk_models.sample_cov(df)\n",
    "\n",
    "# Optimize for max sharpe ratio\n",
    "\n",
    "ef = EfficientFrontier(mu,S)\n",
    "optimised_weights = ef.max_sharpe()\n",
    "cleaned_weights = ef.clean_weights()\n",
    "print(cleaned_weights)\n",
    "ef.portfolio_performance(verbose = True)"
   ]
  },
  {
   "cell_type": "code",
   "execution_count": 16,
   "id": "2c498bd9",
   "metadata": {
    "scrolled": true
   },
   "outputs": [
    {
     "name": "stdout",
     "output_type": "stream",
     "text": [
      "DiscreteAllocation: {'AAPL': 18, 'MSFT': 42, 'TSLA': 27}\n",
      "Funds remaining: $108.14\n"
     ]
    },
    {
     "name": "stderr",
     "output_type": "stream",
     "text": [
      "/Users/jacobfrench/opt/anaconda3/lib/python3.9/site-packages/cvxpy/problems/problem.py:1385: UserWarning: Solution may be inaccurate. Try another solver, adjusting the solver settings, or solve with verbose=True for more information.\n",
      "  warnings.warn(\n"
     ]
    }
   ],
   "source": [
    "# Get the discret allocation of each share per stock\n",
    "from pypfopt.discrete_allocation import DiscreteAllocation, get_latest_prices\n",
    "\n",
    "latest_prices = get_latest_prices(df)\n",
    "optimised_weights = cleaned_weights\n",
    "da = DiscreteAllocation(optimised_weights,latest_prices, total_portfolio_value=20000)\n",
    "\n",
    "allocation, leftover = da.lp_portfolio()\n",
    "\n",
    "print('DiscreteAllocation:', allocation)\n",
    "print('Funds remaining: ${:.2f}'.format(leftover))"
   ]
  },
  {
   "cell_type": "code",
   "execution_count": null,
   "id": "b9452e43",
   "metadata": {},
   "outputs": [],
   "source": []
  }
 ],
 "metadata": {
  "kernelspec": {
   "display_name": "Python 3 (ipykernel)",
   "language": "python",
   "name": "python3"
  },
  "language_info": {
   "codemirror_mode": {
    "name": "ipython",
    "version": 3
   },
   "file_extension": ".py",
   "mimetype": "text/x-python",
   "name": "python",
   "nbconvert_exporter": "python",
   "pygments_lexer": "ipython3",
   "version": "3.9.12"
  }
 },
 "nbformat": 4,
 "nbformat_minor": 5
}
